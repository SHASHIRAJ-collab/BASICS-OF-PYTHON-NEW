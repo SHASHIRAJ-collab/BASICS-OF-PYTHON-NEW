{
  "nbformat": 4,
  "nbformat_minor": 0,
  "metadata": {
    "colab": {
      "provenance": []
    },
    "kernelspec": {
      "name": "python3",
      "display_name": "Python 3"
    },
    "language_info": {
      "name": "python"
    }
  },
  "cells": [
    {
      "cell_type": "code",
      "execution_count": null,
      "metadata": {
        "id": "sGMr5xF6v5nw"
      },
      "outputs": [],
      "source": []
    },
    {
      "cell_type": "markdown",
      "source": [
        "#ASSIGNMENT BASICS OF PYTHON\n"
      ],
      "metadata": {
        "id": "P6K0wJ5WwuTz"
      }
    },
    {
      "cell_type": "markdown",
      "source": [
        "Q1. What is Python, and why is it popular?\n",
        " ->  Python is a high-level, interpreted programming language known for its readability and versatility. It’s\n",
        "popular because of its simple syntax, large community, extensive libraries, and wide applicability, including\n",
        "web development, data analysis, AI, and more.\n",
        "\n"
      ],
      "metadata": {
        "id": "iWa7dN91w0oc"
      }
    },
    {
      "cell_type": "markdown",
      "source": [
        "Q2. What is an interpreter in Python?\n",
        "->  An interpreter is a program that executes Python code line-by-line, allowing you to run scripts interactively.\n",
        "This makes it easier to debug and develop code quickly.\n"
      ],
      "metadata": {
        "id": "_zUwXFs1xfsr"
      }
    },
    {
      "cell_type": "markdown",
      "source": [
        "<!-- Q2. What is an interpreter in Python -->"
      ],
      "metadata": {
        "id": "zWwGN-bCx3f2"
      }
    },
    {
      "cell_type": "markdown",
      "source": [
        "\n",
        "\n",
        "> Add blockquote\n",
        "\n"
      ],
      "metadata": {
        "id": "h_lw4miSxkBh"
      }
    },
    {
      "cell_type": "markdown",
      "source": [
        "Q3. What are pre-defined keywords in Python?\n",
        "->Pre-defined keywords in Python are reserved words that have a specific meaning and purpose within the\n",
        "language. Examples include if, else, for, while, True, and False.\n"
      ],
      "metadata": {
        "id": "Eh8NqSFJygR_"
      }
    },
    {
      "cell_type": "markdown",
      "source": [
        "Q4. Can keywords be used as variable names?\n",
        "->No, keywords cannot be used as variable names as they are reserved by Python for specific functionalities.\n"
      ],
      "metadata": {
        "id": "NiZ0kRqRwone"
      }
    },
    {
      "cell_type": "code",
      "source": [],
      "metadata": {
        "id": "QI4OXWiLy4tQ"
      },
      "execution_count": null,
      "outputs": []
    },
    {
      "cell_type": "markdown",
      "source": [
        "Q5. What is mutability in Python?\n",
        "-> Mutability refers to an object’s ability to change its state or content after creation. For example, lists are\n",
        "mutable, while tuples are immutable.\n"
      ],
      "metadata": {
        "id": "UYtXSY66y5RG"
      }
    },
    {
      "cell_type": "code",
      "source": [],
      "metadata": {
        "id": "WZjAf_LjzC0K"
      },
      "execution_count": null,
      "outputs": []
    },
    {
      "cell_type": "markdown",
      "source": [
        "Q6. Why are lists mutable, but tuples are immutable?\n",
        "-> Lists are designed to be flexible, so they allow modification of elements. Tuples, on the other hand, are\n",
        "designed as fixed collections, making them faster and safer in scenarios where data should not change.\n",
        "\n",
        "\n"
      ],
      "metadata": {
        "id": "uPLjD9erzEMl"
      }
    },
    {
      "cell_type": "code",
      "source": [],
      "metadata": {
        "id": "B0E_28S_zM-g"
      },
      "execution_count": null,
      "outputs": []
    },
    {
      "cell_type": "markdown",
      "source": [
        "Q7. What is the difference between “==” and “is” operators in Python?\n",
        "->“==” checks if the values of two objects are equal, while “is” checks if two variables point to the same\n",
        "memory location (i.e., if they are the same object).\n"
      ],
      "metadata": {
        "id": "tjSzdoCozNhE"
      }
    },
    {
      "cell_type": "code",
      "source": [],
      "metadata": {
        "id": "Pyd-KoewzVD0"
      },
      "execution_count": null,
      "outputs": []
    },
    {
      "cell_type": "markdown",
      "source": [
        "Q8. What are logical operators in Python?\n",
        "-> Logical operators are used to combine multiple conditions and include and, or, and not."
      ],
      "metadata": {
        "id": "GIwyJgr-zX1d"
      }
    },
    {
      "cell_type": "code",
      "source": [],
      "metadata": {
        "id": "MBT25mbezg2o"
      },
      "execution_count": null,
      "outputs": []
    },
    {
      "cell_type": "markdown",
      "source": [
        "Q9. What is type casting in Python?\n",
        "-> Type casting is the conversion of one data type to another, such as converting an integer to a string or a\n",
        "float.\n"
      ],
      "metadata": {
        "id": "PYpkTw9QziKk"
      }
    },
    {
      "cell_type": "code",
      "source": [],
      "metadata": {
        "id": "1O0Tdcs0zqg_"
      },
      "execution_count": null,
      "outputs": []
    },
    {
      "cell_type": "markdown",
      "source": [
        "Q10. What is the difference between implicit and explicit type casting?\n",
        "->Implicit casting is done automatically by Python, while explicit casting requires the use of functions like int(),\n",
        "float(), or str() to convert between types."
      ],
      "metadata": {
        "id": "mcb3c6PwzrBk"
      }
    },
    {
      "cell_type": "code",
      "source": [],
      "metadata": {
        "id": "DcQgbcYIz1Iy"
      },
      "execution_count": null,
      "outputs": []
    },
    {
      "cell_type": "markdown",
      "source": [
        "\n"
      ],
      "metadata": {
        "id": "Xos0COqxz2I1"
      }
    },
    {
      "cell_type": "markdown",
      "source": [
        "Q11. What is the purpose of conditional statements in Python?\n",
        "->Conditional statements, such as if, elif, and else, allow Python to execute certain blocks of code based on\n",
        "whether a condition is True or False."
      ],
      "metadata": {
        "id": "rOYhX639z6H2"
      }
    },
    {
      "cell_type": "code",
      "source": [],
      "metadata": {
        "id": "Ua7uyAXUz_zE"
      },
      "execution_count": null,
      "outputs": []
    },
    {
      "cell_type": "markdown",
      "source": [],
      "metadata": {
        "id": "6gUZIhfU0On0"
      }
    },
    {
      "cell_type": "markdown",
      "source": [
        "Q12. How does the elif statement work?\n",
        "->The elif statement provides additional conditions after an initial if. It is only executed if the previous if or elif\n",
        "condition was False."
      ],
      "metadata": {
        "id": "NGHFuN9r0SbH"
      }
    },
    {
      "cell_type": "code",
      "source": [],
      "metadata": {
        "id": "e9G2b5uW0Ypn"
      },
      "execution_count": null,
      "outputs": []
    },
    {
      "cell_type": "markdown",
      "source": [
        "Q13. What is the difference between for and while loops?\n",
        "->A for loop is typically used when you know the number of iterations in advance, while a while loop is used\n",
        "when the number of iterations depends on a condition."
      ],
      "metadata": {
        "id": "6GS2WKaY0ZEt"
      }
    },
    {
      "cell_type": "code",
      "source": [],
      "metadata": {
        "id": "O5cx2SLN0h2J"
      },
      "execution_count": null,
      "outputs": []
    },
    {
      "cell_type": "markdown",
      "source": [
        "Q14. Describe a scenario where a while loop is more suitable than a for loop?\n",
        "->A while loop is ideal when you want to continue looping until a specific condition is met, like waiting for user\n",
        "input or monitoring a process until it completes."
      ],
      "metadata": {
        "id": "QBL5ZD0B0lj2"
      }
    },
    {
      "cell_type": "code",
      "source": [
        "\n"
      ],
      "metadata": {
        "id": "RCdNy1Kw0rx4"
      },
      "execution_count": null,
      "outputs": []
    },
    {
      "cell_type": "markdown",
      "source": [
        "#PRACTICAL QUESTIONS\n"
      ],
      "metadata": {
        "id": "u_bHOADD0zwF"
      }
    },
    {
      "cell_type": "code",
      "source": [],
      "metadata": {
        "id": "qQR-mu8B020f"
      },
      "execution_count": null,
      "outputs": []
    },
    {
      "cell_type": "markdown",
      "source": [
        "Q1. Write a Python program to print \"Hello, World!\"\n"
      ],
      "metadata": {
        "id": "sgFdH7yy08kd"
      }
    },
    {
      "cell_type": "code",
      "source": [
        "X=(\"Hello, World!\")\n",
        "print(X)"
      ],
      "metadata": {
        "colab": {
          "base_uri": "https://localhost:8080/"
        },
        "id": "Ap9dvtJw0-86",
        "outputId": "3c38e906-0392-4b4f-930f-0915f0991199"
      },
      "execution_count": 1,
      "outputs": [
        {
          "output_type": "stream",
          "name": "stdout",
          "text": [
            "Hello, World!\n"
          ]
        }
      ]
    },
    {
      "cell_type": "markdown",
      "source": [],
      "metadata": {
        "id": "8Zc2Kcsk0x-9"
      }
    },
    {
      "cell_type": "markdown",
      "source": [
        "Q2. Write a Python program that displays your name and age.\n"
      ],
      "metadata": {
        "id": "1ImjkuUY1Vza"
      }
    },
    {
      "cell_type": "code",
      "source": [
        "name=input(\"enter your name:\")\n",
        "age=input(\"enter your age:\")\n",
        "print(\"my name is\",name)\n",
        "print(\"my age is\",age)"
      ],
      "metadata": {
        "colab": {
          "base_uri": "https://localhost:8080/"
        },
        "id": "uBEFxr5m1Yvq",
        "outputId": "8af28d0a-b4fa-4986-b7f0-3e6b59a7043a"
      },
      "execution_count": 2,
      "outputs": [
        {
          "output_type": "stream",
          "name": "stdout",
          "text": [
            "enter your name:SHASHI\n",
            "enter your age:33\n",
            "my name is SHASHI\n",
            "my age is 33\n"
          ]
        }
      ]
    },
    {
      "cell_type": "markdown",
      "source": [],
      "metadata": {
        "id": "IlMPPIRK0L6s"
      }
    },
    {
      "cell_type": "code",
      "source": [],
      "metadata": {
        "id": "kWBPLQvN0Jna"
      },
      "execution_count": null,
      "outputs": []
    },
    {
      "cell_type": "markdown",
      "source": [
        "Q3. Write code to print all the pre-defined keywords in Python using the keyword library.\n"
      ],
      "metadata": {
        "id": "3j-yZnhU1oSO"
      }
    },
    {
      "cell_type": "code",
      "source": [
        "import keyword\n",
        "print(keyword.kwlist)"
      ],
      "metadata": {
        "colab": {
          "base_uri": "https://localhost:8080/"
        },
        "id": "qJ5frSA_1qIl",
        "outputId": "e9208894-7d49-4803-89f0-fc07b7a0410b"
      },
      "execution_count": 3,
      "outputs": [
        {
          "output_type": "stream",
          "name": "stdout",
          "text": [
            "['False', 'None', 'True', 'and', 'as', 'assert', 'async', 'await', 'break', 'class', 'continue', 'def', 'del', 'elif', 'else', 'except', 'finally', 'for', 'from', 'global', 'if', 'import', 'in', 'is', 'lambda', 'nonlocal', 'not', 'or', 'pass', 'raise', 'return', 'try', 'while', 'with', 'yield']\n"
          ]
        }
      ]
    },
    {
      "cell_type": "code",
      "source": [],
      "metadata": {
        "id": "-g5LrF7Q1wdm"
      },
      "execution_count": null,
      "outputs": []
    },
    {
      "cell_type": "markdown",
      "source": [
        "Q4. Write a program that checks if a given word is a Python keyword.\n"
      ],
      "metadata": {
        "id": "_WAox_Gf12iZ"
      }
    },
    {
      "cell_type": "code",
      "source": [
        "import keyword\n",
        "word = input(\"Enter a word: \")\n",
        "if keyword.iskeyword(word):\n",
        "    print(f\"{word} is a Python keyword.\")\n",
        "else:\n",
        "    print(f\"{word} is not a Python keyword.\")"
      ],
      "metadata": {
        "colab": {
          "base_uri": "https://localhost:8080/"
        },
        "id": "o2c7qyvf2AFf",
        "outputId": "0bf91be6-3eef-4036-b2d6-f9d8e9b4f03f"
      },
      "execution_count": 4,
      "outputs": [
        {
          "output_type": "stream",
          "name": "stdout",
          "text": [
            "Enter a word: as\n",
            "as is a Python keyword.\n"
          ]
        }
      ]
    },
    {
      "cell_type": "code",
      "source": [],
      "metadata": {
        "id": "Uxqubso72MTV"
      },
      "execution_count": null,
      "outputs": []
    },
    {
      "cell_type": "markdown",
      "source": [
        "Q5. Create a list and tuple in Python, and demonstrate how attempting to change an element works differently for each."
      ],
      "metadata": {
        "id": "D8Csi-FD2QqW"
      }
    },
    {
      "cell_type": "code",
      "source": [
        "my_list = [1, 2, 3]\n",
        "my_tuple = (1, 2, 3)\n",
        "\n",
        "# Modifying list\n",
        "my_list[0] = 10\n",
        "print(\"Modified list:\", my_list)\n",
        "\n",
        "# Trying to modify tuple\n",
        "try:\n",
        "    my_tuple[0] = 10\n",
        "except TypeError as e:\n",
        "    print(\"Error:\", e)"
      ],
      "metadata": {
        "colab": {
          "base_uri": "https://localhost:8080/"
        },
        "id": "SknbwOPY2SEn",
        "outputId": "3177ee8b-3525-4b80-ec85-d5c87dce654e"
      },
      "execution_count": 5,
      "outputs": [
        {
          "output_type": "stream",
          "name": "stdout",
          "text": [
            "Modified list: [10, 2, 3]\n",
            "Error: 'tuple' object does not support item assignment\n"
          ]
        }
      ]
    },
    {
      "cell_type": "code",
      "source": [],
      "metadata": {
        "id": "suBpSsOI2dOP"
      },
      "execution_count": null,
      "outputs": []
    },
    {
      "cell_type": "markdown",
      "source": [
        "Q6. Write a function to demonstrate the behavior of mutable and immutable arguments"
      ],
      "metadata": {
        "id": "fLqU6S0Z2iN2"
      }
    },
    {
      "cell_type": "code",
      "source": [
        "def modify_list(lst):\n",
        "    lst.append(4)\n",
        "\n",
        "def modify_string(s):\n",
        "    s += \" world\"\n",
        "\n",
        "my_list = [1, 2, 3]\n",
        "my_string = \"hello\"\n",
        "\n",
        "modify_list(my_list)\n",
        "print(\"Modified list:\", my_list)\n",
        "\n",
        "modify_string(my_string)\n",
        "print(\"String after function call:\", my_string)"
      ],
      "metadata": {
        "colab": {
          "base_uri": "https://localhost:8080/"
        },
        "id": "gwRnQmyH2jMY",
        "outputId": "bf5f9826-aa2c-479b-dace-e03d131c0bdf"
      },
      "execution_count": 6,
      "outputs": [
        {
          "output_type": "stream",
          "name": "stdout",
          "text": [
            "Modified list: [1, 2, 3, 4]\n",
            "String after function call: hello\n"
          ]
        }
      ]
    },
    {
      "cell_type": "code",
      "source": [],
      "metadata": {
        "id": "Ot-4KC0M2qwo"
      },
      "execution_count": null,
      "outputs": []
    },
    {
      "cell_type": "markdown",
      "source": [
        "Q7. Write a program that performs basic arithmetic operations on two user-input numbers"
      ],
      "metadata": {
        "id": "mcSRLKoD2uLs"
      }
    },
    {
      "cell_type": "code",
      "source": [
        "num1 = int(input(\"Enter first number: \"))\n",
        "num2 = int(input(\"Enter second number: \"))\n",
        "\n",
        "print(\"Addition:\", num1 + num2)\n",
        "print(\"Subtraction:\", num1 - num2)\n",
        "print(\"Multiplication:\", num1 * num2)\n",
        "print(\"Division:\", num1 / num2 if num2 != 0 else \"Cannot divide by zero\")"
      ],
      "metadata": {
        "colab": {
          "base_uri": "https://localhost:8080/"
        },
        "id": "fT668Ght2vFu",
        "outputId": "007aa655-195c-4c8d-8d73-37181d7533cd"
      },
      "execution_count": 7,
      "outputs": [
        {
          "output_type": "stream",
          "name": "stdout",
          "text": [
            "Enter first number: 4\n",
            "Enter second number: 5\n",
            "Addition: 9\n",
            "Subtraction: -1\n",
            "Multiplication: 20\n",
            "Division: 0.8\n"
          ]
        }
      ]
    },
    {
      "cell_type": "code",
      "source": [],
      "metadata": {
        "id": "9zQzfCcB25_X"
      },
      "execution_count": null,
      "outputs": []
    },
    {
      "cell_type": "markdown",
      "source": [
        "Q8. Write a program to demonstrate the use of logical operators."
      ],
      "metadata": {
        "id": "5e94HHVb29nE"
      }
    },
    {
      "cell_type": "code",
      "source": [
        "x = True\n",
        "y = False\n",
        "\n",
        "print(\"x and y:\", x and y)\n",
        "print(\"x or y:\", x or y)\n",
        "print(\"not x:\", not x)"
      ],
      "metadata": {
        "colab": {
          "base_uri": "https://localhost:8080/"
        },
        "id": "UWwS9ZKG2-bR",
        "outputId": "32891d59-6f95-4996-f096-f338b6a7a0e4"
      },
      "execution_count": 8,
      "outputs": [
        {
          "output_type": "stream",
          "name": "stdout",
          "text": [
            "x and y: False\n",
            "x or y: True\n",
            "not x: False\n"
          ]
        }
      ]
    },
    {
      "cell_type": "code",
      "source": [],
      "metadata": {
        "id": "4TVqWbvR3IXR"
      },
      "execution_count": null,
      "outputs": []
    },
    {
      "cell_type": "markdown",
      "source": [
        "Q9. Write a Python program to convert user input from string to integer, float, and boolean types."
      ],
      "metadata": {
        "id": "y_1F7JFB3Jzp"
      }
    },
    {
      "cell_type": "code",
      "source": [
        "user_input = input(\"Enter a number: \")\n",
        "\n",
        "int_val = int(user_input)\n",
        "float_val = float(user_input)\n",
        "bool_val = bool(int_val)\n",
        "\n",
        "print(\"Integer:\", int_val)\n",
        "print(\"Float:\", float_val)\n",
        "print(\"Boolean:\", bool_val)"
      ],
      "metadata": {
        "colab": {
          "base_uri": "https://localhost:8080/"
        },
        "id": "jKLDdRfY3K8f",
        "outputId": "3f3ebf4d-1e4a-4ca6-ff7b-db66c3e3d576"
      },
      "execution_count": 10,
      "outputs": [
        {
          "output_type": "stream",
          "name": "stdout",
          "text": [
            "Enter a number: 6\n",
            "Integer: 6\n",
            "Float: 6.0\n",
            "Boolean: True\n"
          ]
        }
      ]
    },
    {
      "cell_type": "code",
      "source": [],
      "metadata": {
        "id": "2LbT4sdG3ZR9"
      },
      "execution_count": null,
      "outputs": []
    },
    {
      "cell_type": "markdown",
      "source": [
        "Q10. Write code to demonstrate type casting with list elements."
      ],
      "metadata": {
        "id": "bkwn3g2t3cHt"
      }
    },
    {
      "cell_type": "code",
      "source": [
        "str_list = [\"1\", \"2\", \"3\"]\n",
        "int_list = list(map(int, str_list))\n",
        "print(\"List of integers:\", int_list)"
      ],
      "metadata": {
        "colab": {
          "base_uri": "https://localhost:8080/"
        },
        "id": "kSKcDCbC3c8v",
        "outputId": "c69484e6-7cc5-4b86-dc2d-81b9afa00ce9"
      },
      "execution_count": 11,
      "outputs": [
        {
          "output_type": "stream",
          "name": "stdout",
          "text": [
            "List of integers: [1, 2, 3]\n"
          ]
        }
      ]
    },
    {
      "cell_type": "code",
      "source": [],
      "metadata": {
        "id": "cnZmUiHn3kM5"
      },
      "execution_count": null,
      "outputs": []
    },
    {
      "cell_type": "markdown",
      "source": [
        "Q11. Write a program that checks if a number is positive, negative, or zero."
      ],
      "metadata": {
        "id": "pALETQE73nUZ"
      }
    },
    {
      "cell_type": "code",
      "source": [
        "num = float(input(\"Enter a number: \"))\n",
        "if num > 0:\n",
        "    print(\"Positive\")\n",
        "elif num < 0:\n",
        "    print(\"Negative\")\n",
        "else:\n",
        "    print(\"Zero\")"
      ],
      "metadata": {
        "colab": {
          "base_uri": "https://localhost:8080/"
        },
        "id": "r4oRrtfg3oRw",
        "outputId": "0793e78f-bcc0-4715-de21-b25a9e0902d9"
      },
      "execution_count": 12,
      "outputs": [
        {
          "output_type": "stream",
          "name": "stdout",
          "text": [
            "Enter a number: 48\n",
            "Positive\n"
          ]
        }
      ]
    },
    {
      "cell_type": "code",
      "source": [],
      "metadata": {
        "id": "C4vHzjF63v7W"
      },
      "execution_count": null,
      "outputs": []
    },
    {
      "cell_type": "markdown",
      "source": [
        "Q12. Write a for loop to print numbers from 1 to 10."
      ],
      "metadata": {
        "id": "K-uFL4eB32Md"
      }
    },
    {
      "cell_type": "code",
      "source": [
        "for i in range(1, 11):\n",
        "    print(i)"
      ],
      "metadata": {
        "colab": {
          "base_uri": "https://localhost:8080/"
        },
        "id": "6aMOq5GQ35XH",
        "outputId": "65945f42-eddc-4eaa-dc94-79d17545133c"
      },
      "execution_count": 13,
      "outputs": [
        {
          "output_type": "stream",
          "name": "stdout",
          "text": [
            "1\n",
            "2\n",
            "3\n",
            "4\n",
            "5\n",
            "6\n",
            "7\n",
            "8\n",
            "9\n",
            "10\n"
          ]
        }
      ]
    },
    {
      "cell_type": "code",
      "source": [],
      "metadata": {
        "id": "lI0S3mU83_BG"
      },
      "execution_count": null,
      "outputs": []
    },
    {
      "cell_type": "markdown",
      "source": [
        "Q13. Write a Python program to find the sum of all even numbers between 1 and 50."
      ],
      "metadata": {
        "id": "D8qVRdu54Czt"
      }
    },
    {
      "cell_type": "code",
      "source": [
        "total = 0\n",
        "for i in range(1, 51):\n",
        "    if i % 2 == 0:\n",
        "        total += i\n",
        "print(\"Sum of even numbers from 1 to 50:\", total)"
      ],
      "metadata": {
        "colab": {
          "base_uri": "https://localhost:8080/"
        },
        "id": "H01jB3ZX4DsX",
        "outputId": "3a8d90f4-5c35-4d17-9fb1-ac6af17114eb"
      },
      "execution_count": 14,
      "outputs": [
        {
          "output_type": "stream",
          "name": "stdout",
          "text": [
            "Sum of even numbers from 1 to 50: 650\n"
          ]
        }
      ]
    },
    {
      "cell_type": "code",
      "source": [],
      "metadata": {
        "id": "4MmXrmpg4Kdx"
      },
      "execution_count": null,
      "outputs": []
    },
    {
      "cell_type": "markdown",
      "source": [
        "Q14. Write a program to reverse a string using a while loop."
      ],
      "metadata": {
        "id": "RrMz5E0J4Ndu"
      }
    },
    {
      "cell_type": "code",
      "source": [
        "string = input(\"Enter a string: \")\n",
        "reversed_string = \"\"\n",
        "i = len(string) - 1\n",
        "\n",
        "while i >= 0:\n",
        "    reversed_string += string[i]\n",
        "    i -= 1\n",
        "\n",
        "print(\"Reversed string:\", reversed_string)"
      ],
      "metadata": {
        "colab": {
          "base_uri": "https://localhost:8080/"
        },
        "id": "xCmnrA084OfS",
        "outputId": "7d79e530-7403-40f1-bd06-b30733b44cde"
      },
      "execution_count": 15,
      "outputs": [
        {
          "output_type": "stream",
          "name": "stdout",
          "text": [
            "Enter a string: shashi\n",
            "Reversed string: ihsahs\n"
          ]
        }
      ]
    },
    {
      "cell_type": "code",
      "source": [],
      "metadata": {
        "id": "kGQdcqWZ4bHl"
      },
      "execution_count": null,
      "outputs": []
    },
    {
      "cell_type": "markdown",
      "source": [
        "Q15. Write a Python program to calculate the factorial of a number provided by the user using a while loop."
      ],
      "metadata": {
        "id": "piw4zC2q4eBV"
      }
    },
    {
      "cell_type": "code",
      "source": [
        "# Get input from the user\n",
        "num = int(input(\"Enter a number to calculate its factorial: \"))\n",
        "\n",
        "# Initialize variables\n",
        "factorial = 1\n",
        "i = 1\n",
        "\n",
        "# Calculate factorial using a while loop\n",
        "while i <= num:\n",
        "    factorial *= i\n",
        "    i += 1\n",
        "\n",
        "print(f\"The factorial of {num} is: {factorial}\")"
      ],
      "metadata": {
        "colab": {
          "base_uri": "https://localhost:8080/"
        },
        "id": "BaPW6hTx4e8w",
        "outputId": "f8970823-8070-45a5-9f6c-8ea2b03a273a"
      },
      "execution_count": 16,
      "outputs": [
        {
          "output_type": "stream",
          "name": "stdout",
          "text": [
            "Enter a number to calculate its factorial: 44\n",
            "The factorial of 44 is: 2658271574788448768043625811014615890319638528000000000\n"
          ]
        }
      ]
    }
  ]
}